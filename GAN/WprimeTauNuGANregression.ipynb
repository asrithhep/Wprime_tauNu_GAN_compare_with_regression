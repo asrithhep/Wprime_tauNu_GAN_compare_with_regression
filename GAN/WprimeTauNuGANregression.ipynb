{
  "cells": [
    {
      "cell_type": "code",
      "execution_count": null,
      "metadata": {
        "id": "bKvqYLFTOBb7"
      },
      "outputs": [],
      "source": [
        "from tensorflow import keras\n",
        "from tensorflow.keras import layers\n",
        "\n",
        "import tensorflow as tf\n",
        "import numpy as np\n",
        "import pandas as pd\n",
        "import math\n",
        "from sklearn.impute import SimpleImputer\n",
        "from sklearn.preprocessing import StandardScaler\n",
        "from sklearn.pipeline import Pipeline\n",
        "\n",
        "from keras.callbacks import EarlyStopping\n",
        "import matplotlib.pyplot as plt"
      ]
    },
    {
      "cell_type": "code",
      "execution_count": null,
      "metadata": {
        "colab": {
          "base_uri": "https://localhost:8080/"
        },
        "id": "kq9M9rhvOIq9",
        "outputId": "cc996c3c-fc28-47aa-9c19-117b9eb219bd"
      },
      "outputs": [
        {
          "output_type": "stream",
          "name": "stdout",
          "text": [
            "Drive already mounted at /content/gdrive/; to attempt to forcibly remount, call drive.mount(\"/content/gdrive/\", force_remount=True).\n"
          ]
        }
      ],
      "source": [
        "from google.colab import drive\n",
        "drive.mount('/content/gdrive/')"
      ]
    },
    {
      "cell_type": "code",
      "execution_count": null,
      "metadata": {
        "id": "honaG0OgONMQ"
      },
      "outputs": [],
      "source": [
        "InputDataset  = pd.read_csv('/content/gdrive/MyDrive/GAN_Regression/WprimeGenSamples/train_Gen_4TeV.csv',index_col=None ) \n",
        "TestDataset   = pd.read_csv('/content/gdrive/MyDrive/GAN_Regression/WprimeGenSamples/test_Gen_4TeV.csv',index_col=None )"
      ]
    },
    {
      "cell_type": "code",
      "execution_count": null,
      "metadata": {
        "colab": {
          "base_uri": "https://localhost:8080/",
          "height": 268
        },
        "id": "LzlSy-40Or2u",
        "outputId": "f6eab6a7-29ef-4c8c-b35d-e6fd178f4357"
      },
      "outputs": [
        {
          "output_type": "execute_result",
          "data": {
            "text/plain": [
              "   gentau_vis_px  gentau_vis_py  gentau_vis_pz  gentau_vis_e  gentau_vis_pt  \\\n",
              "0     822.413100     457.550230    -941.308170   1331.082200     941.124600   \n",
              "1      37.090450    1189.625200     675.895200   1368.729900      -1.000000   \n",
              "2    -735.189640    1876.418600    -604.699500   2104.071000    2015.304100   \n",
              "3      15.535508      38.109413     -12.625603     43.084137      41.154335   \n",
              "4     944.358340    1510.144200     600.327640   1879.559600    1781.108600   \n",
              "\n",
              "   neutrino_px  neutrino_py  neutrino_pz   neutrino_e       genmet  \\\n",
              "0  -806.245300  -421.932980   3054.14620  3186.827400    26.238064   \n",
              "1   -25.638721 -1199.450200  -3056.56050  3283.580300   133.697000   \n",
              "2   729.990900 -1871.799200   -709.59814  2130.739000  1877.832600   \n",
              "3   -19.669594   -33.706245     -4.30183    39.262062     9.440048   \n",
              "4  -942.020500 -1479.339600  -1330.58980  2201.435300  1157.640300   \n",
              "\n",
              "     genmet_px    genmet_py  boson_mass  \n",
              "0    26.225977    26.225977  3993.23100  \n",
              "1   104.987890   104.987890  3997.02300  \n",
              "2 -1749.580700 -1749.580700  4025.69100  \n",
              "3    -8.145935    -4.770561    80.36093  \n",
              "4  -974.017700  -974.017700  4015.00700  "
            ],
            "text/html": [
              "\n",
              "  <div id=\"df-0db0ae87-7713-4985-9437-f507c3f23e28\">\n",
              "    <div class=\"colab-df-container\">\n",
              "      <div>\n",
              "<style scoped>\n",
              "    .dataframe tbody tr th:only-of-type {\n",
              "        vertical-align: middle;\n",
              "    }\n",
              "\n",
              "    .dataframe tbody tr th {\n",
              "        vertical-align: top;\n",
              "    }\n",
              "\n",
              "    .dataframe thead th {\n",
              "        text-align: right;\n",
              "    }\n",
              "</style>\n",
              "<table border=\"1\" class=\"dataframe\">\n",
              "  <thead>\n",
              "    <tr style=\"text-align: right;\">\n",
              "      <th></th>\n",
              "      <th>gentau_vis_px</th>\n",
              "      <th>gentau_vis_py</th>\n",
              "      <th>gentau_vis_pz</th>\n",
              "      <th>gentau_vis_e</th>\n",
              "      <th>gentau_vis_pt</th>\n",
              "      <th>neutrino_px</th>\n",
              "      <th>neutrino_py</th>\n",
              "      <th>neutrino_pz</th>\n",
              "      <th>neutrino_e</th>\n",
              "      <th>genmet</th>\n",
              "      <th>genmet_px</th>\n",
              "      <th>genmet_py</th>\n",
              "      <th>boson_mass</th>\n",
              "    </tr>\n",
              "  </thead>\n",
              "  <tbody>\n",
              "    <tr>\n",
              "      <th>0</th>\n",
              "      <td>822.413100</td>\n",
              "      <td>457.550230</td>\n",
              "      <td>-941.308170</td>\n",
              "      <td>1331.082200</td>\n",
              "      <td>941.124600</td>\n",
              "      <td>-806.245300</td>\n",
              "      <td>-421.932980</td>\n",
              "      <td>3054.14620</td>\n",
              "      <td>3186.827400</td>\n",
              "      <td>26.238064</td>\n",
              "      <td>26.225977</td>\n",
              "      <td>26.225977</td>\n",
              "      <td>3993.23100</td>\n",
              "    </tr>\n",
              "    <tr>\n",
              "      <th>1</th>\n",
              "      <td>37.090450</td>\n",
              "      <td>1189.625200</td>\n",
              "      <td>675.895200</td>\n",
              "      <td>1368.729900</td>\n",
              "      <td>-1.000000</td>\n",
              "      <td>-25.638721</td>\n",
              "      <td>-1199.450200</td>\n",
              "      <td>-3056.56050</td>\n",
              "      <td>3283.580300</td>\n",
              "      <td>133.697000</td>\n",
              "      <td>104.987890</td>\n",
              "      <td>104.987890</td>\n",
              "      <td>3997.02300</td>\n",
              "    </tr>\n",
              "    <tr>\n",
              "      <th>2</th>\n",
              "      <td>-735.189640</td>\n",
              "      <td>1876.418600</td>\n",
              "      <td>-604.699500</td>\n",
              "      <td>2104.071000</td>\n",
              "      <td>2015.304100</td>\n",
              "      <td>729.990900</td>\n",
              "      <td>-1871.799200</td>\n",
              "      <td>-709.59814</td>\n",
              "      <td>2130.739000</td>\n",
              "      <td>1877.832600</td>\n",
              "      <td>-1749.580700</td>\n",
              "      <td>-1749.580700</td>\n",
              "      <td>4025.69100</td>\n",
              "    </tr>\n",
              "    <tr>\n",
              "      <th>3</th>\n",
              "      <td>15.535508</td>\n",
              "      <td>38.109413</td>\n",
              "      <td>-12.625603</td>\n",
              "      <td>43.084137</td>\n",
              "      <td>41.154335</td>\n",
              "      <td>-19.669594</td>\n",
              "      <td>-33.706245</td>\n",
              "      <td>-4.30183</td>\n",
              "      <td>39.262062</td>\n",
              "      <td>9.440048</td>\n",
              "      <td>-8.145935</td>\n",
              "      <td>-4.770561</td>\n",
              "      <td>80.36093</td>\n",
              "    </tr>\n",
              "    <tr>\n",
              "      <th>4</th>\n",
              "      <td>944.358340</td>\n",
              "      <td>1510.144200</td>\n",
              "      <td>600.327640</td>\n",
              "      <td>1879.559600</td>\n",
              "      <td>1781.108600</td>\n",
              "      <td>-942.020500</td>\n",
              "      <td>-1479.339600</td>\n",
              "      <td>-1330.58980</td>\n",
              "      <td>2201.435300</td>\n",
              "      <td>1157.640300</td>\n",
              "      <td>-974.017700</td>\n",
              "      <td>-974.017700</td>\n",
              "      <td>4015.00700</td>\n",
              "    </tr>\n",
              "  </tbody>\n",
              "</table>\n",
              "</div>\n",
              "      <button class=\"colab-df-convert\" onclick=\"convertToInteractive('df-0db0ae87-7713-4985-9437-f507c3f23e28')\"\n",
              "              title=\"Convert this dataframe to an interactive table.\"\n",
              "              style=\"display:none;\">\n",
              "        \n",
              "  <svg xmlns=\"http://www.w3.org/2000/svg\" height=\"24px\"viewBox=\"0 0 24 24\"\n",
              "       width=\"24px\">\n",
              "    <path d=\"M0 0h24v24H0V0z\" fill=\"none\"/>\n",
              "    <path d=\"M18.56 5.44l.94 2.06.94-2.06 2.06-.94-2.06-.94-.94-2.06-.94 2.06-2.06.94zm-11 1L8.5 8.5l.94-2.06 2.06-.94-2.06-.94L8.5 2.5l-.94 2.06-2.06.94zm10 10l.94 2.06.94-2.06 2.06-.94-2.06-.94-.94-2.06-.94 2.06-2.06.94z\"/><path d=\"M17.41 7.96l-1.37-1.37c-.4-.4-.92-.59-1.43-.59-.52 0-1.04.2-1.43.59L10.3 9.45l-7.72 7.72c-.78.78-.78 2.05 0 2.83L4 21.41c.39.39.9.59 1.41.59.51 0 1.02-.2 1.41-.59l7.78-7.78 2.81-2.81c.8-.78.8-2.07 0-2.86zM5.41 20L4 18.59l7.72-7.72 1.47 1.35L5.41 20z\"/>\n",
              "  </svg>\n",
              "      </button>\n",
              "      \n",
              "  <style>\n",
              "    .colab-df-container {\n",
              "      display:flex;\n",
              "      flex-wrap:wrap;\n",
              "      gap: 12px;\n",
              "    }\n",
              "\n",
              "    .colab-df-convert {\n",
              "      background-color: #E8F0FE;\n",
              "      border: none;\n",
              "      border-radius: 50%;\n",
              "      cursor: pointer;\n",
              "      display: none;\n",
              "      fill: #1967D2;\n",
              "      height: 32px;\n",
              "      padding: 0 0 0 0;\n",
              "      width: 32px;\n",
              "    }\n",
              "\n",
              "    .colab-df-convert:hover {\n",
              "      background-color: #E2EBFA;\n",
              "      box-shadow: 0px 1px 2px rgba(60, 64, 67, 0.3), 0px 1px 3px 1px rgba(60, 64, 67, 0.15);\n",
              "      fill: #174EA6;\n",
              "    }\n",
              "\n",
              "    [theme=dark] .colab-df-convert {\n",
              "      background-color: #3B4455;\n",
              "      fill: #D2E3FC;\n",
              "    }\n",
              "\n",
              "    [theme=dark] .colab-df-convert:hover {\n",
              "      background-color: #434B5C;\n",
              "      box-shadow: 0px 1px 3px 1px rgba(0, 0, 0, 0.15);\n",
              "      filter: drop-shadow(0px 1px 2px rgba(0, 0, 0, 0.3));\n",
              "      fill: #FFFFFF;\n",
              "    }\n",
              "  </style>\n",
              "\n",
              "      <script>\n",
              "        const buttonEl =\n",
              "          document.querySelector('#df-0db0ae87-7713-4985-9437-f507c3f23e28 button.colab-df-convert');\n",
              "        buttonEl.style.display =\n",
              "          google.colab.kernel.accessAllowed ? 'block' : 'none';\n",
              "\n",
              "        async function convertToInteractive(key) {\n",
              "          const element = document.querySelector('#df-0db0ae87-7713-4985-9437-f507c3f23e28');\n",
              "          const dataTable =\n",
              "            await google.colab.kernel.invokeFunction('convertToInteractive',\n",
              "                                                     [key], {});\n",
              "          if (!dataTable) return;\n",
              "\n",
              "          const docLinkHtml = 'Like what you see? Visit the ' +\n",
              "            '<a target=\"_blank\" href=https://colab.research.google.com/notebooks/data_table.ipynb>data table notebook</a>'\n",
              "            + ' to learn more about interactive tables.';\n",
              "          element.innerHTML = '';\n",
              "          dataTable['output_type'] = 'display_data';\n",
              "          await google.colab.output.renderOutput(dataTable, element);\n",
              "          const docLink = document.createElement('div');\n",
              "          docLink.innerHTML = docLinkHtml;\n",
              "          element.appendChild(docLink);\n",
              "        }\n",
              "      </script>\n",
              "    </div>\n",
              "  </div>\n",
              "  "
            ]
          },
          "metadata": {},
          "execution_count": 4
        }
      ],
      "source": [
        "TestDataset.head()"
      ]
    },
    {
      "cell_type": "code",
      "execution_count": null,
      "metadata": {
        "id": "YPCw2L4NcyAh"
      },
      "outputs": [],
      "source": [
        "InputDataset = InputDataset[InputDataset['gentau_vis_pt'] > 100]\n",
        "InputDataset = InputDataset[InputDataset['boson_mass'] > 100]\n",
        "TestDataset  = TestDataset[TestDataset['gentau_vis_pt'] > 100]\n",
        "TestDataset  = TestDataset[TestDataset['boson_mass'] > 100]"
      ]
    },
    {
      "cell_type": "code",
      "source": [
        "TestDataset.head()"
      ],
      "metadata": {
        "colab": {
          "base_uri": "https://localhost:8080/",
          "height": 268
        },
        "id": "sOTCrBWf6bhk",
        "outputId": "6fb97eae-6c5b-4285-e18c-d90f60fe16a7"
      },
      "execution_count": null,
      "outputs": [
        {
          "output_type": "execute_result",
          "data": {
            "text/plain": [
              "    gentau_vis_px  gentau_vis_py  gentau_vis_pz  gentau_vis_e  gentau_vis_pt  \\\n",
              "0       822.41310      457.55023     -941.30817     1331.0822       941.1246   \n",
              "2      -735.18964     1876.41860     -604.69950     2104.0710      2015.3041   \n",
              "4       944.35834     1510.14420      600.32764     1879.5596      1781.1086   \n",
              "7      -924.70105    -1621.30930     -338.82004     1896.9761      1866.4716   \n",
              "10      814.64624     -400.37787    -3113.31640     3242.9450       907.7174   \n",
              "\n",
              "    neutrino_px  neutrino_py  neutrino_pz  neutrino_e       genmet  \\\n",
              "0     -806.2453   -421.93298   3054.14620   3186.8274    26.238064   \n",
              "2      729.9909  -1871.79920   -709.59814   2130.7390  1877.832600   \n",
              "4     -942.0205  -1479.33960  -1330.58980   2201.4353  1157.640300   \n",
              "7      906.5073   1618.58740   1110.44960   2162.1006  1754.427000   \n",
              "10    -759.9698    307.07890   1002.30530   1294.7847   656.948360   \n",
              "\n",
              "      genmet_px    genmet_py  boson_mass  \n",
              "0     26.225977    26.225977   3993.2310  \n",
              "2  -1749.580700 -1749.580700   4025.6910  \n",
              "4   -974.017700  -974.017700   4015.0070  \n",
              "7   1529.084600  1529.084600   3985.0160  \n",
              "10   235.307560   235.307560   4015.3364  "
            ],
            "text/html": [
              "\n",
              "  <div id=\"df-17a20fe0-318c-48d9-8517-19223cefd25d\">\n",
              "    <div class=\"colab-df-container\">\n",
              "      <div>\n",
              "<style scoped>\n",
              "    .dataframe tbody tr th:only-of-type {\n",
              "        vertical-align: middle;\n",
              "    }\n",
              "\n",
              "    .dataframe tbody tr th {\n",
              "        vertical-align: top;\n",
              "    }\n",
              "\n",
              "    .dataframe thead th {\n",
              "        text-align: right;\n",
              "    }\n",
              "</style>\n",
              "<table border=\"1\" class=\"dataframe\">\n",
              "  <thead>\n",
              "    <tr style=\"text-align: right;\">\n",
              "      <th></th>\n",
              "      <th>gentau_vis_px</th>\n",
              "      <th>gentau_vis_py</th>\n",
              "      <th>gentau_vis_pz</th>\n",
              "      <th>gentau_vis_e</th>\n",
              "      <th>gentau_vis_pt</th>\n",
              "      <th>neutrino_px</th>\n",
              "      <th>neutrino_py</th>\n",
              "      <th>neutrino_pz</th>\n",
              "      <th>neutrino_e</th>\n",
              "      <th>genmet</th>\n",
              "      <th>genmet_px</th>\n",
              "      <th>genmet_py</th>\n",
              "      <th>boson_mass</th>\n",
              "    </tr>\n",
              "  </thead>\n",
              "  <tbody>\n",
              "    <tr>\n",
              "      <th>0</th>\n",
              "      <td>822.41310</td>\n",
              "      <td>457.55023</td>\n",
              "      <td>-941.30817</td>\n",
              "      <td>1331.0822</td>\n",
              "      <td>941.1246</td>\n",
              "      <td>-806.2453</td>\n",
              "      <td>-421.93298</td>\n",
              "      <td>3054.14620</td>\n",
              "      <td>3186.8274</td>\n",
              "      <td>26.238064</td>\n",
              "      <td>26.225977</td>\n",
              "      <td>26.225977</td>\n",
              "      <td>3993.2310</td>\n",
              "    </tr>\n",
              "    <tr>\n",
              "      <th>2</th>\n",
              "      <td>-735.18964</td>\n",
              "      <td>1876.41860</td>\n",
              "      <td>-604.69950</td>\n",
              "      <td>2104.0710</td>\n",
              "      <td>2015.3041</td>\n",
              "      <td>729.9909</td>\n",
              "      <td>-1871.79920</td>\n",
              "      <td>-709.59814</td>\n",
              "      <td>2130.7390</td>\n",
              "      <td>1877.832600</td>\n",
              "      <td>-1749.580700</td>\n",
              "      <td>-1749.580700</td>\n",
              "      <td>4025.6910</td>\n",
              "    </tr>\n",
              "    <tr>\n",
              "      <th>4</th>\n",
              "      <td>944.35834</td>\n",
              "      <td>1510.14420</td>\n",
              "      <td>600.32764</td>\n",
              "      <td>1879.5596</td>\n",
              "      <td>1781.1086</td>\n",
              "      <td>-942.0205</td>\n",
              "      <td>-1479.33960</td>\n",
              "      <td>-1330.58980</td>\n",
              "      <td>2201.4353</td>\n",
              "      <td>1157.640300</td>\n",
              "      <td>-974.017700</td>\n",
              "      <td>-974.017700</td>\n",
              "      <td>4015.0070</td>\n",
              "    </tr>\n",
              "    <tr>\n",
              "      <th>7</th>\n",
              "      <td>-924.70105</td>\n",
              "      <td>-1621.30930</td>\n",
              "      <td>-338.82004</td>\n",
              "      <td>1896.9761</td>\n",
              "      <td>1866.4716</td>\n",
              "      <td>906.5073</td>\n",
              "      <td>1618.58740</td>\n",
              "      <td>1110.44960</td>\n",
              "      <td>2162.1006</td>\n",
              "      <td>1754.427000</td>\n",
              "      <td>1529.084600</td>\n",
              "      <td>1529.084600</td>\n",
              "      <td>3985.0160</td>\n",
              "    </tr>\n",
              "    <tr>\n",
              "      <th>10</th>\n",
              "      <td>814.64624</td>\n",
              "      <td>-400.37787</td>\n",
              "      <td>-3113.31640</td>\n",
              "      <td>3242.9450</td>\n",
              "      <td>907.7174</td>\n",
              "      <td>-759.9698</td>\n",
              "      <td>307.07890</td>\n",
              "      <td>1002.30530</td>\n",
              "      <td>1294.7847</td>\n",
              "      <td>656.948360</td>\n",
              "      <td>235.307560</td>\n",
              "      <td>235.307560</td>\n",
              "      <td>4015.3364</td>\n",
              "    </tr>\n",
              "  </tbody>\n",
              "</table>\n",
              "</div>\n",
              "      <button class=\"colab-df-convert\" onclick=\"convertToInteractive('df-17a20fe0-318c-48d9-8517-19223cefd25d')\"\n",
              "              title=\"Convert this dataframe to an interactive table.\"\n",
              "              style=\"display:none;\">\n",
              "        \n",
              "  <svg xmlns=\"http://www.w3.org/2000/svg\" height=\"24px\"viewBox=\"0 0 24 24\"\n",
              "       width=\"24px\">\n",
              "    <path d=\"M0 0h24v24H0V0z\" fill=\"none\"/>\n",
              "    <path d=\"M18.56 5.44l.94 2.06.94-2.06 2.06-.94-2.06-.94-.94-2.06-.94 2.06-2.06.94zm-11 1L8.5 8.5l.94-2.06 2.06-.94-2.06-.94L8.5 2.5l-.94 2.06-2.06.94zm10 10l.94 2.06.94-2.06 2.06-.94-2.06-.94-.94-2.06-.94 2.06-2.06.94z\"/><path d=\"M17.41 7.96l-1.37-1.37c-.4-.4-.92-.59-1.43-.59-.52 0-1.04.2-1.43.59L10.3 9.45l-7.72 7.72c-.78.78-.78 2.05 0 2.83L4 21.41c.39.39.9.59 1.41.59.51 0 1.02-.2 1.41-.59l7.78-7.78 2.81-2.81c.8-.78.8-2.07 0-2.86zM5.41 20L4 18.59l7.72-7.72 1.47 1.35L5.41 20z\"/>\n",
              "  </svg>\n",
              "      </button>\n",
              "      \n",
              "  <style>\n",
              "    .colab-df-container {\n",
              "      display:flex;\n",
              "      flex-wrap:wrap;\n",
              "      gap: 12px;\n",
              "    }\n",
              "\n",
              "    .colab-df-convert {\n",
              "      background-color: #E8F0FE;\n",
              "      border: none;\n",
              "      border-radius: 50%;\n",
              "      cursor: pointer;\n",
              "      display: none;\n",
              "      fill: #1967D2;\n",
              "      height: 32px;\n",
              "      padding: 0 0 0 0;\n",
              "      width: 32px;\n",
              "    }\n",
              "\n",
              "    .colab-df-convert:hover {\n",
              "      background-color: #E2EBFA;\n",
              "      box-shadow: 0px 1px 2px rgba(60, 64, 67, 0.3), 0px 1px 3px 1px rgba(60, 64, 67, 0.15);\n",
              "      fill: #174EA6;\n",
              "    }\n",
              "\n",
              "    [theme=dark] .colab-df-convert {\n",
              "      background-color: #3B4455;\n",
              "      fill: #D2E3FC;\n",
              "    }\n",
              "\n",
              "    [theme=dark] .colab-df-convert:hover {\n",
              "      background-color: #434B5C;\n",
              "      box-shadow: 0px 1px 3px 1px rgba(0, 0, 0, 0.15);\n",
              "      filter: drop-shadow(0px 1px 2px rgba(0, 0, 0, 0.3));\n",
              "      fill: #FFFFFF;\n",
              "    }\n",
              "  </style>\n",
              "\n",
              "      <script>\n",
              "        const buttonEl =\n",
              "          document.querySelector('#df-17a20fe0-318c-48d9-8517-19223cefd25d button.colab-df-convert');\n",
              "        buttonEl.style.display =\n",
              "          google.colab.kernel.accessAllowed ? 'block' : 'none';\n",
              "\n",
              "        async function convertToInteractive(key) {\n",
              "          const element = document.querySelector('#df-17a20fe0-318c-48d9-8517-19223cefd25d');\n",
              "          const dataTable =\n",
              "            await google.colab.kernel.invokeFunction('convertToInteractive',\n",
              "                                                     [key], {});\n",
              "          if (!dataTable) return;\n",
              "\n",
              "          const docLinkHtml = 'Like what you see? Visit the ' +\n",
              "            '<a target=\"_blank\" href=https://colab.research.google.com/notebooks/data_table.ipynb>data table notebook</a>'\n",
              "            + ' to learn more about interactive tables.';\n",
              "          element.innerHTML = '';\n",
              "          dataTable['output_type'] = 'display_data';\n",
              "          await google.colab.output.renderOutput(dataTable, element);\n",
              "          const docLink = document.createElement('div');\n",
              "          docLink.innerHTML = docLinkHtml;\n",
              "          element.appendChild(docLink);\n",
              "        }\n",
              "      </script>\n",
              "    </div>\n",
              "  </div>\n",
              "  "
            ]
          },
          "metadata": {},
          "execution_count": 6
        }
      ]
    },
    {
      "cell_type": "code",
      "execution_count": null,
      "metadata": {
        "id": "jlCRCUYXWHzT"
      },
      "outputs": [],
      "source": [
        "GenTauVis_trainDF = InputDataset.drop(\n",
        "    [\n",
        "     'gentau_vis_pt',\n",
        "     'neutrino_px',\n",
        "     'neutrino_py',\n",
        "     'neutrino_pz',\n",
        "     'neutrino_e',\n",
        "     'genmet',\n",
        "     'genmet_px',\n",
        "     'genmet_py',\n",
        "     'boson_mass'],axis=1)\n",
        "\n",
        "\n",
        "Neutrino_trainDF = InputDataset.drop(\n",
        "    [\n",
        "     'gentau_vis_px',\n",
        "     'gentau_vis_py',\n",
        "     'gentau_vis_pz',\n",
        "     'gentau_vis_e',\n",
        "     'gentau_vis_pt',\n",
        "     'genmet',\n",
        "     'genmet_px',\n",
        "     'genmet_py',\n",
        "     'boson_mass'\n",
        "    ],axis=1)\n",
        "\n",
        "GenMET_trainDF = InputDataset.drop(\n",
        "    [\n",
        "     'gentau_vis_px',\n",
        "     'gentau_vis_py',\n",
        "     'gentau_vis_pz',\n",
        "     'gentau_vis_e',\n",
        "     'gentau_vis_pt',\n",
        "     'neutrino_px',\n",
        "     'neutrino_py',\n",
        "     'neutrino_pz',\n",
        "     'neutrino_e',\n",
        "     'boson_mass',\n",
        "     'genmet'],axis=1)\n",
        "\n",
        "GenMET_trainDF['genmet_pz'] = 0\n",
        "GenMET_trainDF['genmet_e']  = np.sqrt(GenMET_trainDF['genmet_px']**2 + GenMET_trainDF['genmet_py']**2)\n",
        "\n",
        "\n",
        "GenTauVis_testDF = TestDataset.drop(\n",
        "    [\n",
        "     'gentau_vis_pt',\n",
        "     'neutrino_px',\n",
        "     'neutrino_py',\n",
        "     'neutrino_pz',\n",
        "     'neutrino_e',\n",
        "     'genmet',\n",
        "     'genmet_px',\n",
        "     'genmet_py',\n",
        "     'boson_mass'],axis=1)\n",
        "\n",
        "\n",
        "\n",
        "GenMET_testDF = TestDataset.drop(\n",
        "    [\n",
        "     'gentau_vis_px',\n",
        "     'gentau_vis_py',\n",
        "     'gentau_vis_pz',\n",
        "     'gentau_vis_e',\n",
        "     'gentau_vis_pt',\n",
        "     'neutrino_px',\n",
        "     'neutrino_py',\n",
        "     'neutrino_pz',\n",
        "     'neutrino_e',\n",
        "     'boson_mass',\n",
        "     'genmet'],axis=1)\n",
        "\n",
        "GenMET_testDF['genmet_pz'] = 0\n",
        "GenMET_testDF['genmet_e']  = np.sqrt(GenMET_testDF['genmet_px']**2 + GenMET_testDF['genmet_py']**2)"
      ]
    },
    {
      "cell_type": "code",
      "execution_count": null,
      "metadata": {
        "colab": {
          "base_uri": "https://localhost:8080/",
          "height": 435
        },
        "id": "2l56o0D4ceFY",
        "outputId": "47e90b5f-4fd1-4c05-be24-d9e70f99b184"
      },
      "outputs": [
        {
          "output_type": "execute_result",
          "data": {
            "text/plain": [
              "(array([2.000e+00, 0.000e+00, 0.000e+00, 0.000e+00, 0.000e+00, 0.000e+00,\n",
              "        0.000e+00, 0.000e+00, 0.000e+00, 0.000e+00, 0.000e+00, 0.000e+00,\n",
              "        0.000e+00, 0.000e+00, 0.000e+00, 0.000e+00, 0.000e+00, 0.000e+00,\n",
              "        8.440e+02, 3.527e+04]),\n",
              " array([ 100.1998 ,  302.6891 ,  505.17834,  707.6676 ,  910.1569 ,\n",
              "        1112.6462 , 1315.1355 , 1517.6248 , 1720.114  , 1922.6033 ,\n",
              "        2125.0925 , 2327.5818 , 2530.071  , 2732.5603 , 2935.0498 ,\n",
              "        3137.539  , 3340.0283 , 3542.5176 , 3745.0068 , 3947.496  ,\n",
              "        4149.9854 ], dtype=float32),\n",
              " <a list of 20 Patch objects>)"
            ]
          },
          "metadata": {},
          "execution_count": 8
        },
        {
          "output_type": "display_data",
          "data": {
            "text/plain": [
              "<Figure size 432x288 with 1 Axes>"
            ],
            "image/png": "[encoded data removed]"
          },
          "metadata": {
            "needs_background": "light"
          }
        }
      ],
      "source": [
        "p4 = Neutrino_trainDF.to_numpy(dtype='float32') + GenTauVis_trainDF.to_numpy(dtype='float32')\n",
        "W_mass = np.sqrt(p4[:,3]**2 - (p4[:,2]**2 + p4[:,1]**2 + p4[:,0]**2))\n",
        "plt.hist(W_mass,20,log=True)"
      ]
    },
    {
      "cell_type": "code",
      "source": [
        "GenTau_p4 = GenTauVis_trainDF.to_numpy(dtype='float32')\n",
        "Neutrino_p4 = Neutrino_trainDF.to_numpy(dtype='float32')\n",
        "\n",
        "scale = np.amax(GenTau_p4) + np.amax(Neutrino_p4)"
      ],
      "metadata": {
        "id": "mc3h15_jxiJI"
      },
      "execution_count": null,
      "outputs": []
    },
    {
      "cell_type": "code",
      "execution_count": null,
      "metadata": {
        "id": "4SYtTxUpRWXq"
      },
      "outputs": [],
      "source": [
        "\n",
        "def calcMT(tau_p4,met_p4):\n",
        "  n   = tau_p4.shape[0]\n",
        "  tauPT = np.sqrt(tau_p4['gentau_vis_px']**2 + tau_p4['gentau_vis_py']**2)\n",
        "  tauET = tau_p4['gentau_vis_e']*tauPT/np.sqrt(tau_p4['gentau_vis_px']**2 + tau_p4['gentau_vis_py']**2 + tau_p4['gentau_vis_pz']**2)\n",
        "  MET   = np.sqrt(met_p4['genmet_px']**2 + met_p4['genmet_py']**2)\n",
        "  ScalarSumET = (tauPT + MET).to_numpy(dtype='float32')/scale\n",
        "  VectorSumPx = (tau_p4['gentau_vis_px'] + met_p4['genmet_px']).to_numpy(dtype='float32')/scale\n",
        "  VectorSumPy = (tau_p4['gentau_vis_py'] + met_p4['genmet_py']).to_numpy(dtype='float32')/scale\n",
        "\n",
        "  MT = np.sqrt(ScalarSumET*ScalarSumET - VectorSumPx*VectorSumPx - VectorSumPy*VectorSumPy).reshape(n,1)\n",
        "  return MT\n",
        "\n",
        "def generate_real_sample(tau_p4,neutrino_p4,met_p4):\n",
        "  n   = tau_p4.shape[0]\n",
        "  _px = tau_p4['gentau_vis_px'] + neutrino_p4['neutrino_px']\n",
        "  _py = tau_p4['gentau_vis_py'] + neutrino_p4['neutrino_py']\n",
        "  _pz = tau_p4['gentau_vis_pz'] + neutrino_p4['neutrino_pz']\n",
        "  _e  = (tau_p4['gentau_vis_e'] + neutrino_p4['neutrino_e']).to_numpy(dtype='float32')\n",
        "\n",
        "  W_p3_sq  = (_px**2 + _py**2 + _pz**2).to_numpy(dtype='float32').reshape(n,1)/scale**2\n",
        "  W_e_sq   = (_e**2).reshape(n,1)/scale**2\n",
        "  X = np.hstack((W_p3_sq,W_e_sq))\n",
        "  MT = calcMT(tau_p4,met_p4)\n",
        "  \n",
        "  return X,MT\n",
        "\n",
        "\n",
        "\n"
      ]
    },
    {
      "cell_type": "markdown",
      "metadata": {
        "id": "38CYsaN7eDFD"
      },
      "source": [
        "## Checking the MT distribution"
      ]
    },
    {
      "cell_type": "code",
      "execution_count": null,
      "metadata": {
        "id": "S19lnubqTq-U"
      },
      "outputs": [],
      "source": [
        "_,mT = generate_real_sample(GenTauVis_trainDF,Neutrino_trainDF,GenMET_trainDF)"
      ]
    },
    {
      "cell_type": "code",
      "execution_count": null,
      "metadata": {
        "colab": {
          "base_uri": "https://localhost:8080/",
          "height": 435
        },
        "id": "QpVKwnREeIJB",
        "outputId": "41c2bdbb-81bd-4d28-f440-192984dfeed8"
      },
      "outputs": [
        {
          "output_type": "execute_result",
          "data": {
            "text/plain": [
              "(array([1776., 2797., 3020., 3114., 3141., 2900., 2704., 2561., 2378.,\n",
              "        2143., 1898., 1780., 1474., 1290., 1090.,  878.,  619.,  396.,\n",
              "         151.,    6.]),\n",
              " array([4.3158372e-05, 2.2165563e-02, 4.4287968e-02, 6.6410378e-02,\n",
              "        8.8532776e-02, 1.1065518e-01, 1.3277759e-01, 1.5490000e-01,\n",
              "        1.7702240e-01, 1.9914481e-01, 2.2126721e-01, 2.4338962e-01,\n",
              "        2.6551202e-01, 2.8763443e-01, 3.0975685e-01, 3.3187923e-01,\n",
              "        3.5400164e-01, 3.7612405e-01, 3.9824647e-01, 4.2036885e-01,\n",
              "        4.4249126e-01], dtype=float32),\n",
              " <a list of 20 Patch objects>)"
            ]
          },
          "metadata": {},
          "execution_count": 12
        },
        {
          "output_type": "display_data",
          "data": {
            "text/plain": [
              "<Figure size 432x288 with 1 Axes>"
            ],
            "image/png": "[encoded data removed]"
          },
          "metadata": {
            "needs_background": "light"
          }
        }
      ],
      "source": [
        "plt.hist(mT,20,log=True)"
      ]
    },
    {
      "cell_type": "code",
      "execution_count": null,
      "metadata": {
        "id": "Ycs0kC-jeeRO"
      },
      "outputs": [],
      "source": [
        "# custom GAN class\n",
        "\n",
        "class GANregression(keras.Model):\n",
        "    def __init__(self,ninputs,latent_dim):\n",
        "        super(GANregression,self).__init__()\n",
        "        self.discriminator = self.build_discriminator(ninputs)\n",
        "        self.generator     = self.build_generator(latent_dim,ninputs)\n",
        "        self.latent_dim = latent_dim\n",
        "        self.gen_loss_tracker  = keras.metrics.Mean(name=\"generator_loss\")\n",
        "        self.disc_loss_tracker = keras.metrics.Mean(name=\"discriminator_loss\")\n",
        "\n",
        "    @property\n",
        "    def metrics(self):\n",
        "        return [self.gen_loss_tracker, self.disc_loss_tracker]\n",
        "    \n",
        "    def build_discriminator(self,n_inputs):\n",
        "        dis_input = layers.Input((n_inputs))\n",
        "        label_input = layers.Input((1,))\n",
        "        merge_input = keras.layers.Concatenate()([dis_input,label_input])\n",
        "\n",
        "        layer = layers.Dense(128,activation ='relu', kernel_initializer='he_uniform')(merge_input)\n",
        "        layer = layers.Dense(64,activation  ='relu', kernel_initializer='he_uniform')(layer)\n",
        "        layer = layers.Dense(32,activation  ='relu', kernel_initializer='he_uniform')(layer)\n",
        "        \n",
        "        out_layer = layers.Dense(1,activation='sigmoid')(layer)\n",
        "        model = tf.keras.Model(merge_input,out_layer)\n",
        "        return model\n",
        "\n",
        "    # def build_generator(self,input_dim,n_outputs):\n",
        "    #     input1 = tf.keras.layers.Input(shape=(input_dim,))\n",
        "    #     x1  = tf.keras.layers.Dense(256, activation='relu' ,kernel_initializer='normal')(input1)\n",
        "    #     #hx1 = tf.keras.layers.Dense(128, activation='relu' ,kernel_initializer='normal')(x1)\n",
        "    #     input2 = tf.keras.layers.Input(shape=(input_dim,))\n",
        "    #     x2  = tf.keras.layers.Dense(256, activation='relu' ,kernel_initializer='normal')(input2)\n",
        "    #     #hx2 = tf.keras.layers.Dense(128, activation='relu' ,kernel_initializer='normal')(x2)\n",
        "    #     added = tf.keras.layers.Add()([x1,x2])\n",
        "    #     act = tf.keras.layers.Activation('linear')(added)\n",
        "    #     out = tf.keras.layers.Dense(n_outputs)(act)\n",
        "    #     model = tf.keras.models.Model(inputs=[input1, input2], outputs=out)\n",
        "    #     return model\n",
        "\n",
        "    def build_generator(self,input_dim,n_outputs):\n",
        "        gen_input   = layers.Input((input_dim))\n",
        "        label_input = layers.Input((1,))\n",
        "        merge_input = keras.layers.Concatenate()([gen_input,label_input])\n",
        "        layer = layers.Dense(128,activation='relu', kernel_initializer='he_uniform')(merge_input)\n",
        "        hlayer= layers.Dense(64,activation='relu', kernel_initializer='he_uniform')(layer)\n",
        "        layer = layers.Dense(32,activation='relu', kernel_initializer='he_uniform')(hlayer)\n",
        "        out_layer = layers.Dense(n_outputs,activation='tanh')(layer)\n",
        "        model = tf.keras.Model(merge_input,out_layer)\n",
        "        return model\n",
        "\n",
        "\n",
        "    def compile(self, d_optimizer, g_optimizer, loss_fn):\n",
        "        super(GANregression, self).compile()\n",
        "        self.d_optimizer = d_optimizer\n",
        "        self.g_optimizer = g_optimizer\n",
        "        self.loss_fn = loss_fn\n",
        "        self.d_loss_metric = keras.metrics.Mean(name=\"d_loss\")\n",
        "        self.g_loss_metric = keras.metrics.Mean(name=\"g_loss\")\n",
        "\n",
        "    def Eval(self,x):\n",
        "        noise_vec = tf.random.normal(shape=tf.shape(x))\n",
        "        predicted_variable = self.generator([noise_vec,x])\n",
        "        return predicted_variable        \n",
        "\n",
        "    def train_step(self,data):\n",
        "        real_tau_p4,vis_mass = data\n",
        "        batch_size = tf.shape(real_tau_p4)[0]\n",
        "\n",
        "        fake_labels = tf.random.normal(shape=(batch_size,1),mean=0.107)\n",
        "        random_latent_vector = tf.random.normal(shape=(batch_size,self.latent_dim))\n",
        "        random_vector_labels = tf.concat([random_latent_vector,vis_mass],axis=1)\n",
        "\n",
        "        generated_taup4 = self.generator(random_vector_labels)\n",
        "\n",
        "        fake_taup4_labels = tf.concat([generated_taup4,fake_labels],-1)\n",
        "        real_taup4_labels = tf.concat([real_tau_p4,fake_labels],-1)\n",
        "  \n",
        "        combined_variable = tf.concat([fake_taup4_labels,real_taup4_labels],axis=0)\n",
        "        labels = tf.concat(\n",
        "            [tf.ones((batch_size,1)), tf.zeros((batch_size,1))], axis=0\n",
        "        )\n",
        "        #labels += 0.05 * tf.random.normal(tf.shape(labels),stddev=5.0)\n",
        "        # Train the discriminator\n",
        "        with tf.GradientTape() as tape:\n",
        "            predictions = self.discriminator(combined_variable)\n",
        "            d_loss = self.loss_fn(labels, predictions)\n",
        "        grads = tape.gradient(d_loss, self.discriminator.trainable_weights)\n",
        "        self.d_optimizer.apply_gradients(\n",
        "            zip(grads, self.discriminator.trainable_weights)\n",
        "        )\n",
        "        random_latent_vectors = tf.random.normal(shape=(batch_size,self.latent_dim))\n",
        "        random_vector_labels = tf.concat([random_latent_vector,vis_mass],axis=1)\n",
        "        # Assemble labels that say \"all real images\"\n",
        "        misleading_labels = tf.zeros((batch_size, 1))\n",
        "\n",
        "        # Train the generator (note that we should *not* update the weights\n",
        "        # of the discriminator)!\n",
        "        with tf.GradientTape() as tape:\n",
        "            generated_taup4 = self.generator(random_vector_labels)\n",
        "            fake_taup4_labels = tf.concat([generated_taup4,fake_labels],-1)\n",
        "            predictions = self.discriminator(fake_taup4_labels)\n",
        "            g_loss = self.loss_fn(misleading_labels, predictions)\n",
        "        grads = tape.gradient(g_loss, self.generator.trainable_weights)\n",
        "        self.g_optimizer.apply_gradients(zip(grads, self.generator.trainable_weights))\n",
        "        # Update metrics\n",
        "        self.d_loss_metric.update_state(d_loss)\n",
        "        self.g_loss_metric.update_state(g_loss)\n",
        "        return {\n",
        "            \"d_loss\": self.d_loss_metric.result(),\n",
        "            \"g_loss\": self.g_loss_metric.result(),\n",
        "        }\n",
        "\n",
        "\n",
        "class GANMonitor(keras.callbacks.Callback):\n",
        "    def __init__(self,real_tau_p4,vis_mass,latent_dim,prefix,incriment):\n",
        "        self.latent_dim = latent_dim\n",
        "        self.real_tau_p4 = real_tau_p4\n",
        "        self.incriment = incriment\n",
        "        self.prefix = prefix\n",
        "        self.vis_mass = vis_mass\n",
        "\n",
        "\n",
        "\n",
        "    def summarise_performance(self,real_tau_p4,fake_tau_p4):\n",
        "        real_boson_mass = (-real_tau_p4[:,0] + real_tau_p4[:,1])*scale**2\n",
        "        fake_boson_mass = (-fake_tau_p4[:,0] + fake_tau_p4[:,1])*scale**2\n",
        "        fig,ax = plt.subplots()\n",
        "        ax.hist(real_boson_mass,20,color='blue',label='real')\n",
        "        ax.hist(fake_boson_mass,20,color='red',alpha=0.5,label='fake')\n",
        "        # ax.scatter(real_tau_p4[:,0],real_tau_p4[:,1],color='blue',label='real')\n",
        "        # ax.scatter(fake_tau_p4[:,0],fake_tau_p4[:,1],color='red',label='fake')\n",
        "        ax.legend()\n",
        "        \n",
        "\n",
        "    # def SaveModels(self,epoch):\n",
        "    #     discriminator = self.model.discriminator\n",
        "    #     generator = self.model.generator\n",
        "    #     discriminator.trainable = True\n",
        "    #     dir_path = '/content/gdrive/MyDrive/GAN_Models/'\n",
        "    #     tf.keras.models.save_model(generator,dir_path+'generator_'+self.prefix+'_'+str(epoch))\n",
        "    #     tf.keras.models.save_model(discriminator,dir_path+'discriminator_'+self.prefix+'_'+str(epoch))\n",
        "        \n",
        "    def on_epoch_end(self, epoch, logs=None):\n",
        "        random_latent_vectors = tf.random.normal(shape=(tf.shape(self.real_tau_p4)[0],self.latent_dim))\n",
        "        generated_taup4_labels = tf.concat([random_latent_vectors,self.vis_mass],-1)\n",
        "        self.fake_tau_p4 = self.model.generator(generated_taup4_labels)\n",
        "        # if epoch % 1000==0:\n",
        "        #   print('='*15,epoch,'='*15)\n",
        "        # if epoch % self.incriment == 0 and epoch != 0:\n",
        "        self.summarise_performance(self.real_tau_p4,self.fake_tau_p4)"
      ]
    },
    {
      "cell_type": "code",
      "execution_count": null,
      "metadata": {
        "id": "NYQI48awY7Nt"
      },
      "outputs": [],
      "source": [
        "ninputs,noutput = 2,2\n",
        "latent_dim = 2"
      ]
    },
    {
      "cell_type": "code",
      "execution_count": null,
      "metadata": {
        "colab": {
          "base_uri": "https://localhost:8080/"
        },
        "id": "vNulzYFkY_NB",
        "outputId": "a6a69f60-ae3e-4340-f163-37c2caa4e11d"
      },
      "outputs": [
        {
          "output_type": "execute_result",
          "data": {
            "text/plain": [
              "(36116, 2)"
            ]
          },
          "metadata": {},
          "execution_count": 49
        }
      ],
      "source": [
        "# preparing Training and Real dataset\n",
        "real_samples,MT = generate_real_sample(GenTauVis_trainDF,Neutrino_trainDF,GenMET_trainDF)\n",
        "\n",
        "real_samples.shape\n",
        "#vis_mass.shape"
      ]
    },
    {
      "cell_type": "code",
      "execution_count": null,
      "metadata": {
        "id": "ZkRb8GeUfsNz"
      },
      "outputs": [],
      "source": [
        "gan = GANregression(ninputs=ninputs,latent_dim=latent_dim)\n",
        "\n",
        "gan.compile(\n",
        "    d_optimizer=tf.keras.optimizers.Adam(learning_rate=0.0003),\n",
        "    g_optimizer=tf.keras.optimizers.Adam(learning_rate=0.0003),\n",
        "    loss_fn=keras.losses.BinaryCrossentropy(from_logits=False),\n",
        ")"
      ]
    },
    {
      "cell_type": "code",
      "execution_count": null,
      "metadata": {
        "id": "txl-5QzEgzlP"
      },
      "outputs": [],
      "source": [
        "es = EarlyStopping(monitor='d_loss',\n",
        "                          min_delta = 0,\n",
        "                          patience = 3,\n",
        "                          verbose = 1,\n",
        "                          restore_best_weights = True)\n",
        "gan.fit(real_samples,MT,epochs=100,callbacks=[GANMonitor(real_samples,MT,latent_dim,'Wprime',1000),es],verbose=True)"
      ]
    },
    {
      "cell_type": "code",
      "execution_count": null,
      "metadata": {
        "id": "Q1ws6CLRhRsa"
      },
      "outputs": [],
      "source": [
        "test_mT = calcMT(GenTauVis_testDF,GenMET_testDF)\n",
        "N = test_mT.shape[0]\n",
        "\n",
        "random_latent_vectors = tf.random.normal(shape=(N,latent_dim))\n",
        "generated_taup4_labels = tf.concat([random_latent_vectors,test_mT],-1)\n",
        "\n",
        "Wprime_inv_mass = gan.generator(generated_taup4_labels)"
      ]
    },
    {
      "cell_type": "code",
      "source": [
        "regression_variables = TestDataset.drop(['gentau_vis_pt',\n",
        "     'neutrino_px',\n",
        "     'neutrino_py',\n",
        "     'neutrino_pz',\n",
        "     'neutrino_e',\n",
        "     'genmet','boson_mass'],axis=1)\n",
        "model = keras.models.load_model('/content/gdrive/MyDrive/GAN_Regression/model4TeV.h5')\n",
        "regression_Wmass = model.predict(regression_variables)\n"
      ],
      "metadata": {
        "id": "nElAyDz5ca6C"
      },
      "execution_count": null,
      "outputs": []
    },
    {
      "cell_type": "code",
      "source": [
        "ganW_mass_sq = Wprime_inv_mass[:,1]-Wprime_inv_mass[:,0]\n",
        "ganW_mass = np.sqrt(ganW_mass_sq)*scale\n",
        "plt.subplots(figsize=(8,7))\n",
        "plt.title(r\"W' boson of 4TeV decays to $\\tau\\nu_{\\tau}$ final state\")\n",
        "plt.hist(ganW_mass,15,color='blue',alpha=0.65,density=True,log=True,histtype='step',linewidth=4,label=r\"GAN $W'\\rightarrow\\tau\\nu$\")\n",
        "plt.hist(regression_Wmass,15,color='green',alpha=0.65,density=True,log=False,histtype='step',linewidth=4,label=r\"DNN $W'\\rightarrow\\tau\\nu$\")\n",
        "plt.hist(InputDataset['boson_mass'],30,color='r',density=True,histtype='step',label=r\"simulated $W'\\rightarrow\\tau\\nu$\")\n",
        "plt.xlim((2000,5500))\n",
        "plt.xlabel(r'$\\tau + \\nu_{\\tau}$ mass (GeV)')\n",
        "plt.ylabel('a.u')\n",
        "plt.legend()\n",
        "plt.savefig('/content/gdrive/MyDrive/GAN_Regression/MWprime4TeV.pdf')"
      ],
      "metadata": {
        "colab": {
          "base_uri": "https://localhost:8080/",
          "height": 464
        },
        "id": "_WcJ6YQm4YIg",
        "outputId": "1e6e4a65-ed62-4117-920c-ef7bf930b438"
      },
      "execution_count": null,
      "outputs": [
        {
          "output_type": "display_data",
          "data": {
            "text/plain": [
              "<Figure size 576x504 with 1 Axes>"
            ],
            "image/png": "[encoded data removed]"
          },
          "metadata": {
            "needs_background": "light"
          }
        }
      ]
    },
    {
      "cell_type": "code",
      "source": [
        "ganW_mass.std()/4000\n"
      ],
      "metadata": {
        "colab": {
          "base_uri": "https://localhost:8080/"
        },
        "id": "547bt_SY4tmz",
        "outputId": "bdf5da66-bf47-4f13-9f8d-27c8acab4ae9"
      },
      "execution_count": null,
      "outputs": [
        {
          "output_type": "execute_result",
          "data": {
            "text/plain": [
              "0.011462112426757813"
            ]
          },
          "metadata": {},
          "execution_count": 84
        }
      ]
    },
    {
      "cell_type": "code",
      "source": [
        "regression_Wmass.std()/4000"
      ],
      "metadata": {
        "colab": {
          "base_uri": "https://localhost:8080/"
        },
        "id": "TwvcAa7Gxcp1",
        "outputId": "b5300977-5609-4879-9b42-9d930566691f"
      },
      "execution_count": null,
      "outputs": [
        {
          "output_type": "execute_result",
          "data": {
            "text/plain": [
              "0.01994313049316406"
            ]
          },
          "metadata": {},
          "execution_count": 85
        }
      ]
    },
    {
      "cell_type": "code",
      "source": [
        ""
      ],
      "metadata": {
        "id": "9WlHKyUvyrm9"
      },
      "execution_count": null,
      "outputs": []
    }
  ],
  "metadata": {
    "colab": {
      "name": "WprimeTauNuGANregression.ipynb",
      "provenance": []
    },
    "kernelspec": {
      "display_name": "Python 3",
      "name": "python3"
    },
    "language_info": {
      "name": "python"
    }
  },
  "nbformat": 4,
  "nbformat_minor": 0
}